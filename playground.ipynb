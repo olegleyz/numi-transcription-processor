{
 "cells": [
  {
   "cell_type": "code",
   "execution_count": 4,
   "metadata": {},
   "outputs": [],
   "source": [
    "%load_ext autoreload\n",
    "%autoreload 2\n",
    "from extractors.base_energy_kb import BaseEnergyKB\n",
    "from utils import utils\n",
    "from kb.kb_topic import BaseEnergiesDayKBTopicEn, BaseEnergiesMonthKBTopicEn\n",
    "from kb.numi_kb import NumerologyKB"
   ]
  },
  {
   "cell_type": "markdown",
   "metadata": {},
   "source": [
    "## Process audio transcription of a day base energy into a structured knowledge base\n",
    "There are 4 sections which could be extracted for each base energy of a day:\n",
    "- summary\n",
    "- positive\n",
    "- negative\n",
    "- recommendation  \n",
    "\n",
    "Extracting each section in a chain of prompts."
   ]
  },
  {
   "cell_type": "code",
   "execution_count": 56,
   "metadata": {},
   "outputs": [
    {
     "name": "stdout",
     "output_type": "stream",
     "text": [
      "Day(s): (1, 23)\n",
      "\n",
      "summary:\n",
      "Люди часто стремятся к лидерству. У них проявляется новаторское мышление и высокий уровень интеллекта. Кроме того, у них есть потребность накапливать\n",
      "знания и развивать навыки ораторского мастерства.\n",
      "\n",
      "\n",
      "positive:\n",
      "Когда люди находятся в положительном состоянии, они излучают оптимизм и уверенность в себе. Их мысли и действия наполнены ясностью, что позволяет им\n",
      "видеть порядок и гармонию во всех сферах жизни. Они легко устанавливают связи с окружающими, проявляют заботу и поддержку, создавая атмосферу\n",
      "сотрудничества. Такие люди стремятся к саморазвитию и открыты новым идеям, что помогает им находить вдохновение в обыденных вещах. Они чувствуют себя\n",
      "на своем месте, что придает им силу и уверенность в своих решениях. В их присутствии окружающие ощущают позитивную энергетику и стремление двигаться\n",
      "вперед, ведь они способны превращать мечты в реальность, поддерживая других в этом процессе.\n",
      "\n",
      "\n",
      "negative:\n",
      "Когда люди проявляют негативные эмоции, им становится сложно общаться и находить компромиссы. Это может проявляться в чувстве превосходства и\n",
      "чрезмерном эгоизме. В таких случаях они тяжело воспринимают критику, что мешает их росту и развитию. Неуверенность может заставить скрывать\n",
      "собственные комплексы за маской надменности. Кроме того, конфликты с близкими усугубляют эту негативную тенденцию, что приводит к ощущению\n",
      "потерянности и усталости. В итоге они рискуют застрять в тупике, не развивая свои таланты и возможности.\n",
      "\n",
      "\n",
      "recommendation:\n",
      "Рекомендации для людей, рожденных в указанные даты: накапливайте знания и исследуйте как академические, так и эзотерические науки, особенно после 37\n",
      "лет. Важно развивать собственные идеи и занимать лидерские позиции. Стремитесь к хорошим отношениям с близкими, так как это может стать источником\n",
      "поддержки. Обратите внимание на развитие ораторских навыков и умение воспринимать критику. Уделяйте внимание интеллектуальному росту через постоянное\n",
      "чтение и самообразование.\n",
      "\n"
     ]
    }
   ],
   "source": [
    "bekb = BaseEnergyKB(use_openai=True)\n",
    "bekb_day = bekb.get_kb(demo=True, verbose=True)"
   ]
  },
  {
   "cell_type": "markdown",
   "metadata": {},
   "source": [
    "## Process audio transcription of a month base energy into a structured knowledge base\n",
    "There are 4 sections which could be extracted for each base energy of a day:\n",
    "- summary\n",
    "- recommendation  \n",
    "\n",
    "Extracting each section in a chain of prompts."
   ]
  },
  {
   "cell_type": "code",
   "execution_count": 54,
   "metadata": {},
   "outputs": [
    {
     "name": "stdout",
     "output_type": "stream",
     "text": [
      "Month: 1\n",
      "\n",
      "summary:\n",
      "Людям свойственно проявлять свои чувства и устанавливать связи с близкими, особенно с братьями и сестрами. Им важно наладить гармоничные отношения и\n",
      "преодолеть трудности в коммуникации, что может возникать в процессе взаимодействия. Особенно значимо быть внимательными к эмоциональным запросам\n",
      "близких, что может привести к улучшению их жизни и самореализации.\n",
      "\n",
      "\n",
      "recommendation:\n",
      "Необходимоfocus на установлении близости и взаимопонимания, избегая давления и нравоучений. Важно откликаться на просьбы близких, чтобы поддерживать\n",
      "гармонию и получать новые ресурсы для личного и профессионального роста. Если родных братьев и сестер нет, можно перенести эту практику на отношения с\n",
      "подросшими детьми, поддерживая равенство в общении.\n",
      "\n"
     ]
    }
   ],
   "source": [
    "bekb = BaseEnergyKB(use_openai=True)\n",
    "bekb_month = bekb.get_month_kb(demo=True, verbose=True)"
   ]
  },
  {
   "cell_type": "markdown",
   "metadata": {},
   "source": [
    "## Translate russian interpretations into english"
   ]
  },
  {
   "cell_type": "code",
   "execution_count": 59,
   "metadata": {},
   "outputs": [
    {
     "name": "stdout",
     "output_type": "stream",
     "text": [
      "\n",
      "(1, 23):\n",
      "summary: People tend to be leaders and innovators when they choose to embrace their high intelligence and desire for knowledge, especially in the\n",
      "realm of esotericism. They generate a multitude of ideas, but may encounter difficulties in submitting to authority. In moments when individuals\n",
      "prioritize their relationships with their siblings, they often find these connections to be a vital source of energy.\n",
      "\n",
      "positive: When people choose to be in a state of positive energy, they tend to radiate confidence and harmony in various aspects of their lives. They\n",
      "can notice the order around them and find satisfaction in their actions. In those moments, they actively engage with others, showing friendliness and\n",
      "support. These individuals may feel that they are pursuing their passions, allowing their creative potential to flourish. They are open to new\n",
      "knowledge and emotions, which fosters their development and enriches their inner world. Their optimism creates an atmosphere in which everyone feels\n",
      "comfortable and can realize their abilities.\n",
      "\n",
      "negative: When people experience negative emotions, they tend to encounter difficulties in submitting to others and expressing disagreement with\n",
      "surrounding opinions. This can lead to conflicts in relationships, especially with close ones like siblings, and may intensify the desire for a sense\n",
      "of superiority. Excessive selfishness and pride can act as barriers to harmony. Such individuals might find it hard to accept criticism, and they\n",
      "often do not embrace it, which only exacerbates their internal struggles. Typically, they may mask their complexes behind a façade of arrogance and\n",
      "feel a lack of confidence in their abilities. The need to assert their power can drive them to actions that do not bring satisfaction and hinder their\n",
      "personal development. As a result, the inability to establish kind and responsive relationships with others can evoke feelings of loss and fatigue,\n",
      "creating a vicious circle where a lack of growth leads to an even deeper sense of hopelessness.\n",
      "\n",
      "recommendation: It is recommended that a person accumulates knowledge in any available way, including academic training and the study of esoteric\n",
      "sciences. A person tends to develop leadership qualities, confidence in their abilities, and public speaking skills when they actively engage in these\n",
      "pursuits. Establishing good relationships with siblings can serve as a source of support, especially in moments when a person chooses to be open and\n",
      "nurturing. It is beneficial for a person to avoid pride and selfishness; they are more likely to thrive when they remain receptive to criticism and\n",
      "feedback.\n",
      "\n"
     ]
    }
   ],
   "source": [
    "bekb = BaseEnergyKB(use_openai=True)\n",
    "bekb.translate_be_day(demo=True, verbose=True)"
   ]
  },
  {
   "cell_type": "markdown",
   "metadata": {},
   "source": [
    "## Get reading (base energies) by name, sex, date and month of birth (russian)"
   ]
  },
  {
   "cell_type": "code",
   "execution_count": 42,
   "metadata": {},
   "outputs": [
    {
     "name": "stdout",
     "output_type": "stream",
     "text": [
      "Oleg, тебе свойственно открытое восприятие мира, высокая толерантность и любознательность. Ты легко адаптируешься к новым культурам и странам,\n",
      "стремясь общаться с разнообразными людьми, что делает твою жизнь более насыщенной. Ценишь честность в отношениях как с собой, так и с окружающими.\n",
      "Стремление избегать обмана и строить отношения на основе открытости и искренности может стать ключевым аспектом твоей жизни. Важно, чтобы ты умел\n",
      "прощаться с прошлыми отношениями прежде, чем начинать новые, так как это помогает сохранять твою энергию.\n",
      "\n",
      "Когда ты выбираешь находиться в гармонии, ты излучаешь уверенность и внутренний баланс. Твое искреннее интерес к окружающим превращает каждую встречу\n",
      "в возможность обмена идеями и опытом. Открытость новым впечатлениям и легкость адаптации к изменениям принимают разнообразие мира, в котором ты\n",
      "живешь. Твоя доброжелательность и готовность помогать создают атмосферу взаимопонимания и поддержки, способствуя крепким связям и дружбе. Ты можешь\n",
      "вдохновлять окружающих своей энергией, задавая позитивный тон в любой ситуации и обучая видеть красоту в каждом моменте жизни.\n",
      "\n",
      "В моменты, когда ты поддаешься негативным эмоциям, может проявляться склонность выражать недовольство как по отношению к окружающим, так и к себе. Это\n",
      "недовольство, как правило, не приводит к конструктивным решениям, а лишь усиливает внутреннее напряжение. Ты можешь попасть в состояние отчаяния,\n",
      "когда мир кажется враждебным, и каждое взаимодействие воспринимается как возможный конфликт. В такие моменты интерес к культурным корням и традициям\n",
      "угасает, что приводит к потере связи с общностью. Эта негативная энергия может отнимать у тебя жизненные силы, вызывая усталость и чувство застоя.\n",
      "\n",
      "Рекомендуется проявлять открытость к новым культурам и языкам, изучая разнообразие мира и поддерживая дружелюбные отношения с представителями разных\n",
      "стран при уважении собственных традиций. Избегай негативных проявлений и критики окружающего мира, а вместо этого сосредоточься на расширении\n",
      "горизонтов через путешествия и общение. Работай над навыками честного общения и задавай себе важные вопросы о своих истинных чувствах. Устанавливай\n",
      "здоровые границы и обязательно завершай старые отношения перед переходом к новым. Также стоит стремиться к тому, чтобы окружающие придерживались\n",
      "аналогичных ценностей, что поможет создать гармоничные и искренние связи.\n",
      "\n"
     ]
    }
   ],
   "source": [
    "    from extractors.base_energy_kb import BaseEnergyKB\n",
    "    from utils import utils\n",
    "    \n",
    "    bekb = BaseEnergyKB(use_openai=True)\n",
    "    oleg_be_reading_ru = bekb.get_reading(\"Oleg\", 21, 8, 38, \"m\", lang=\"ru\", verbose=False)[\"text\"]\n",
    "    for el in oleg_be_reading_ru:\n",
    "        utils.print_json_pretty(el, width=150)\n",
    "        print()"
   ]
  },
  {
   "cell_type": "markdown",
   "metadata": {},
   "source": [
    "## Get reading (base energies) by name, sex, date and month of birth (english)"
   ]
  },
  {
   "cell_type": "code",
   "execution_count": 44,
   "metadata": {},
   "outputs": [
    {
     "name": "stdout",
     "output_type": "stream",
     "text": [
      "Oleg, you might discover that when you embrace new experiences, you tend to have an open perception of the world, high tolerance, and curiosity. This\n",
      "openness can help you adapt easily to new cultures and connections, enriching your life significantly. Choosing to value honesty in your relationships\n",
      "can guide you towards building deeper connections based on sincerity and openness, allowing you to move forward positively.\n",
      "\n",
      "When you radiate positive energy, you may find yourself filled with confidence and inner balance. You might see beauty and harmony in your\n",
      "surroundings, which helps you feel at home within yourself. Showing genuine interest in others can transform your interactions into meaningful\n",
      "exchanges of ideas and experiences. During moments when you embrace new challenges, adapting to changes can feel easier, and your kindness can foster\n",
      "strong friendships and a supportive atmosphere.\n",
      "\n",
      "However, in times when you give in to negative emotions, you might experience dissatisfaction and express criticism towards yourself and others. This\n",
      "can create internal tension that hinders positive development. Feeling despair can lead to seeing the world as hostile, causing you to retreat from\n",
      "cultural roots and community connections, which diminishes your vitality.\n",
      "\n",
      "To enhance your experiences, Oleg, consider being open to diverse cultures and languages. Embracing this diversity often leads to forming friendly\n",
      "relationships while respecting your own traditions. It’s beneficial to avoid negative expressions and focus instead on broadening your horizons\n",
      "through travel and meaningful communication. Developing honest communication skills and reflecting on your true feelings is crucial. By setting\n",
      "healthy boundaries, you create space for more positive interactions. Remember to conclude past relationships before engaging in new ones; this can\n",
      "help clarify your emotional state and foster harmonious connections based on shared values.\n",
      "\n"
     ]
    }
   ],
   "source": [
    "    from extractors.base_energy_kb import BaseEnergyKB\n",
    "    from utils import utils\n",
    "    \n",
    "    bekb = BaseEnergyKB(use_openai=True)\n",
    "    oleg_be_reading_en = bekb.get_reading(\"Oleg\", 21, 8, 38, \"m\", lang=\"en\", verbose=False)[\"text\"]\n",
    "    for el in oleg_be_reading_en:\n",
    "        utils.print_json_pretty(el, width=150)\n",
    "        print()"
   ]
  },
  {
   "cell_type": "markdown",
   "metadata": {},
   "source": [
    "### Initializing a Chroma DB vector database"
   ]
  },
  {
   "cell_type": "code",
   "execution_count": 7,
   "metadata": {},
   "outputs": [],
   "source": [
    "# Loading Base Energy interpretations of day and month of birth\n",
    "be_day_topic = BaseEnergiesDayKBTopicEn()\n",
    "be_month_topic = BaseEnergiesMonthKBTopicEn()\n",
    "\n",
    "# Updating Vector Database with interpretations\n",
    "numi_kb = NumerologyKB()\n",
    "numi_kb.upsert_topic_to_kb(be_day_topic)\n",
    "numi_kb.upsert_topic_to_kb(be_month_topic)"
   ]
  },
  {
   "cell_type": "markdown",
   "metadata": {},
   "source": [
    "### Vector Database sample collection\n",
    "We are using Chroma DB as a vector database to store our knowledge base text, embeddings and metadata."
   ]
  },
  {
   "cell_type": "code",
   "execution_count": 22,
   "metadata": {},
   "outputs": [
    {
     "name": "stdout",
     "output_type": "stream",
     "text": [
      "dict_keys(['ids', 'embeddings', 'documents', 'uris', 'data', 'metadatas', 'included'])\n",
      "Example of a doc id: en#BaseEnergiesDay#description\n",
      "Example of a doc text: The base energy of a day of birth represents the f\n",
      "Example of a metadata: {'lang': 'en', 'topic': 'BaseEnergiesDay', 'type': 'description'}\n"
     ]
    }
   ],
   "source": [
    "col_str = numi_kb.kb.get()\n",
    "print(col_str.keys())\n",
    "print(f\"Example of a doc id: {col_str[\"ids\"][0]}\")\n",
    "print(f\"Example of a doc text: {col_str[\"documents\"][0][:50]}\")\n",
    "print(f\"Example of a metadata: {col_str['metadatas'][0]}\")"
   ]
  },
  {
   "cell_type": "markdown",
   "metadata": {},
   "source": [
    "### Querying Vector Database"
   ]
  },
  {
   "cell_type": "code",
   "execution_count": 23,
   "metadata": {},
   "outputs": [
    {
     "name": "stdout",
     "output_type": "stream",
     "text": [
      "The base energy of a day of birth represents the foundational essence of an individual’s character, imprinted at the moment of birth.      This\n",
      "energy, derived from the day of birth, shapes key personality traits and life directions.      It reveals how a person can best harness their\n",
      "strengths and address their weaknesses,      while also highlighting potential challenges and obstacles that may arise on their journey of personal\n",
      "growth.       Understanding this base energy fosters deeper self-awareness and insight into others, enhancing relationships,      guiding intentional\n",
      "decision-making, and supporting goal achievement.      This knowledge serves as a powerful tool for personal development, career progression,\n",
      "relationship harmony,      and overall well-being, offering meaningful guidance for optimizing life’s path.\n",
      "\n",
      "People who are filled with positive energy tend to radiate confidence and inner balance when they choose to cultivate it. They can see order and\n",
      "harmony in all aspects of their lives, which helps them feel at home within themselves. When a person shows genuine interest in those around them,\n",
      "they often transform every encounter into an opportunity for exchanging ideas and experiences. In moments when a person embraces new experiences, they\n",
      "might find it easier to adapt to changes, welcoming the diversity of the world they live in. Their kindness and willingness to help can create an\n",
      "atmosphere of mutual understanding and support, which fosters strong connections and friendships. Such individuals tend to inspire others with their\n",
      "energy, setting a positive tone in any situation, and they remind us to see the beauty in every moment of life.\n",
      "\n",
      "The base energy of a month of birth reflects the broader life tasks and responsibilities a person inherits,      often tied to their family lineage\n",
      "and ancestral legacy.      This energy, rooted in the month of birth, reveals the significant challenges and missions a person is meant to address in\n",
      "their lifetime.      It serves as a guide to understanding the larger patterns of their journey and the lessons they are destined to learn.\n",
      "\n",
      "The people in question tend to value honesty in their relationships with themselves and others. They may choose to build connections based on openness\n",
      "and sincerity. Honesty can become a key aspect of their lives, and they strive to avoid deception both towards themselves and towards others. It is\n",
      "important for them to let go of past relationships before starting new ones, as this can help them preserve their energy.\n",
      "\n",
      "It is recommended to develop skills for honest communication and to ask oneself important questions about true feelings. When a person chooses to set\n",
      "healthy boundaries, they can create space for positive interactions. Moreover, it is important to conclude old relationships before transitioning to\n",
      "new ones, as this can lead to clearer emotional states. A person tends to foster harmonious and sincere connections when they work towards ensuring\n",
      "that others share similar values.\n",
      "\n",
      "People tend to have an open perception of the world, high tolerance, and curiosity when they choose to embrace new experiences. They may easily adapt\n",
      "to new cultures and countries, particularly when they actively seek to connect with diverse individuals, which can enrich their lives.\n",
      "\n",
      "When people give in to negative emotions, they tend to express dissatisfaction towards both others and themselves. This dissatisfaction often\n",
      "manifests as criticism that does not lead to constructive solutions but only increases internal tension. A person may find themselves in a state of\n",
      "despair when the world feels hostile, and each interaction is viewed as a potential conflict. In moments like these, their interest in cultural roots\n",
      "and traditions might diminish, which can lead to a loss of connection with the community. This negative energy can drain their vitality, causing\n",
      "fatigue and a feeling of stagnation, as development becomes challenging in an atmosphere of criticism and aggression.\n",
      "\n",
      "People born on the specified dates may benefit from being open to new cultures and languages. When a person chooses to embrace the diversity of the\n",
      "world, they tend to foster friendly relationships with individuals from different countries, while also preserving their own roots and respecting\n",
      "their traditions. It is important for a person to avoid negative expressions and criticism of the surrounding world; instead, they can focus on\n",
      "broadening their horizons through travel and communication.\n",
      "\n"
     ]
    }
   ],
   "source": [
    "documents = numi_kb.query_kb(21,8, \"Could you tell me about myself\")[\"documents\"][0]\n",
    "for doc in documents:\n",
    "    utils.print_json_pretty(doc, width=150)\n",
    "    print()"
   ]
  }
 ],
 "metadata": {
  "kernelspec": {
   "display_name": ".venv",
   "language": "python",
   "name": "python3"
  },
  "language_info": {
   "codemirror_mode": {
    "name": "ipython",
    "version": 3
   },
   "file_extension": ".py",
   "mimetype": "text/x-python",
   "name": "python",
   "nbconvert_exporter": "python",
   "pygments_lexer": "ipython3",
   "version": "3.12.6"
  }
 },
 "nbformat": 4,
 "nbformat_minor": 2
}
