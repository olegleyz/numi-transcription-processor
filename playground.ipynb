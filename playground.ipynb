{
 "cells": [
  {
   "cell_type": "code",
   "execution_count": 49,
   "metadata": {},
   "outputs": [
    {
     "name": "stdout",
     "output_type": "stream",
     "text": [
      "The autoreload extension is already loaded. To reload it, use:\n",
      "  %reload_ext autoreload\n"
     ]
    }
   ],
   "source": [
    "%load_ext autoreload\n",
    "%autoreload 2\n",
    "from extractors.base_energy_kb import BaseEnergyKB\n",
    "from utils import utils"
   ]
  },
  {
   "cell_type": "markdown",
   "metadata": {},
   "source": [
    "## Process audio transcription of a day base energy into a structured knowledge base\n",
    "There are 4 sections which could be extracted for each base energy of a day:\n",
    "- summary\n",
    "- positive\n",
    "- negative\n",
    "- recommendation  \n",
    "\n",
    "Extracting each section in a chain of prompts."
   ]
  },
  {
   "cell_type": "code",
   "execution_count": 56,
   "metadata": {},
   "outputs": [
    {
     "name": "stdout",
     "output_type": "stream",
     "text": [
      "Day(s): (1, 23)\n",
      "\n",
      "summary:\n",
      "Люди часто стремятся к лидерству. У них проявляется новаторское мышление и высокий уровень интеллекта. Кроме того, у них есть потребность накапливать\n",
      "знания и развивать навыки ораторского мастерства.\n",
      "\n",
      "\n",
      "positive:\n",
      "Когда люди находятся в положительном состоянии, они излучают оптимизм и уверенность в себе. Их мысли и действия наполнены ясностью, что позволяет им\n",
      "видеть порядок и гармонию во всех сферах жизни. Они легко устанавливают связи с окружающими, проявляют заботу и поддержку, создавая атмосферу\n",
      "сотрудничества. Такие люди стремятся к саморазвитию и открыты новым идеям, что помогает им находить вдохновение в обыденных вещах. Они чувствуют себя\n",
      "на своем месте, что придает им силу и уверенность в своих решениях. В их присутствии окружающие ощущают позитивную энергетику и стремление двигаться\n",
      "вперед, ведь они способны превращать мечты в реальность, поддерживая других в этом процессе.\n",
      "\n",
      "\n",
      "negative:\n",
      "Когда люди проявляют негативные эмоции, им становится сложно общаться и находить компромиссы. Это может проявляться в чувстве превосходства и\n",
      "чрезмерном эгоизме. В таких случаях они тяжело воспринимают критику, что мешает их росту и развитию. Неуверенность может заставить скрывать\n",
      "собственные комплексы за маской надменности. Кроме того, конфликты с близкими усугубляют эту негативную тенденцию, что приводит к ощущению\n",
      "потерянности и усталости. В итоге они рискуют застрять в тупике, не развивая свои таланты и возможности.\n",
      "\n",
      "\n",
      "recommendation:\n",
      "Рекомендации для людей, рожденных в указанные даты: накапливайте знания и исследуйте как академические, так и эзотерические науки, особенно после 37\n",
      "лет. Важно развивать собственные идеи и занимать лидерские позиции. Стремитесь к хорошим отношениям с близкими, так как это может стать источником\n",
      "поддержки. Обратите внимание на развитие ораторских навыков и умение воспринимать критику. Уделяйте внимание интеллектуальному росту через постоянное\n",
      "чтение и самообразование.\n",
      "\n"
     ]
    }
   ],
   "source": [
    "bekb = BaseEnergyKB(use_openai=True)\n",
    "bekb_day = bekb.get_kb(demo=True, verbose=True)"
   ]
  },
  {
   "cell_type": "markdown",
   "metadata": {},
   "source": [
    "## Process audio transcription of a month base energy into a structured knowledge base\n",
    "There are 4 sections which could be extracted for each base energy of a day:\n",
    "- summary\n",
    "- recommendation  \n",
    "\n",
    "Extracting each section in a chain of prompts."
   ]
  },
  {
   "cell_type": "code",
   "execution_count": 54,
   "metadata": {},
   "outputs": [
    {
     "name": "stdout",
     "output_type": "stream",
     "text": [
      "Month: 1\n",
      "\n",
      "summary:\n",
      "Людям свойственно проявлять свои чувства и устанавливать связи с близкими, особенно с братьями и сестрами. Им важно наладить гармоничные отношения и\n",
      "преодолеть трудности в коммуникации, что может возникать в процессе взаимодействия. Особенно значимо быть внимательными к эмоциональным запросам\n",
      "близких, что может привести к улучшению их жизни и самореализации.\n",
      "\n",
      "\n",
      "recommendation:\n",
      "Необходимоfocus на установлении близости и взаимопонимания, избегая давления и нравоучений. Важно откликаться на просьбы близких, чтобы поддерживать\n",
      "гармонию и получать новые ресурсы для личного и профессионального роста. Если родных братьев и сестер нет, можно перенести эту практику на отношения с\n",
      "подросшими детьми, поддерживая равенство в общении.\n",
      "\n"
     ]
    }
   ],
   "source": [
    "bekb = BaseEnergyKB(use_openai=True)\n",
    "bekb_month = bekb.get_month_kb(demo=True, verbose=True)"
   ]
  },
  {
   "cell_type": "markdown",
   "metadata": {},
   "source": [
    "## Translate russian interpretations into english"
   ]
  },
  {
   "cell_type": "code",
   "execution_count": 59,
   "metadata": {},
   "outputs": [
    {
     "name": "stdout",
     "output_type": "stream",
     "text": [
      "\n",
      "(1, 23):\n",
      "summary: People tend to be leaders and innovators when they choose to embrace their high intelligence and desire for knowledge, especially in the\n",
      "realm of esotericism. They generate a multitude of ideas, but may encounter difficulties in submitting to authority. In moments when individuals\n",
      "prioritize their relationships with their siblings, they often find these connections to be a vital source of energy.\n",
      "\n",
      "positive: When people choose to be in a state of positive energy, they tend to radiate confidence and harmony in various aspects of their lives. They\n",
      "can notice the order around them and find satisfaction in their actions. In those moments, they actively engage with others, showing friendliness and\n",
      "support. These individuals may feel that they are pursuing their passions, allowing their creative potential to flourish. They are open to new\n",
      "knowledge and emotions, which fosters their development and enriches their inner world. Their optimism creates an atmosphere in which everyone feels\n",
      "comfortable and can realize their abilities.\n",
      "\n",
      "negative: When people experience negative emotions, they tend to encounter difficulties in submitting to others and expressing disagreement with\n",
      "surrounding opinions. This can lead to conflicts in relationships, especially with close ones like siblings, and may intensify the desire for a sense\n",
      "of superiority. Excessive selfishness and pride can act as barriers to harmony. Such individuals might find it hard to accept criticism, and they\n",
      "often do not embrace it, which only exacerbates their internal struggles. Typically, they may mask their complexes behind a façade of arrogance and\n",
      "feel a lack of confidence in their abilities. The need to assert their power can drive them to actions that do not bring satisfaction and hinder their\n",
      "personal development. As a result, the inability to establish kind and responsive relationships with others can evoke feelings of loss and fatigue,\n",
      "creating a vicious circle where a lack of growth leads to an even deeper sense of hopelessness.\n",
      "\n",
      "recommendation: It is recommended that a person accumulates knowledge in any available way, including academic training and the study of esoteric\n",
      "sciences. A person tends to develop leadership qualities, confidence in their abilities, and public speaking skills when they actively engage in these\n",
      "pursuits. Establishing good relationships with siblings can serve as a source of support, especially in moments when a person chooses to be open and\n",
      "nurturing. It is beneficial for a person to avoid pride and selfishness; they are more likely to thrive when they remain receptive to criticism and\n",
      "feedback.\n",
      "\n"
     ]
    }
   ],
   "source": [
    "bekb = BaseEnergyKB(use_openai=True)\n",
    "bekb.translate_be_day(demo=True, verbose=True)"
   ]
  },
  {
   "cell_type": "markdown",
   "metadata": {},
   "source": [
    "## Get reading (base energies) by name, sex, date and month of birth (russian)"
   ]
  },
  {
   "cell_type": "code",
   "execution_count": 42,
   "metadata": {},
   "outputs": [
    {
     "name": "stdout",
     "output_type": "stream",
     "text": [
      "Oleg, тебе свойственно открытое восприятие мира, высокая толерантность и любознательность. Ты легко адаптируешься к новым культурам и странам,\n",
      "стремясь общаться с разнообразными людьми, что делает твою жизнь более насыщенной. Ценишь честность в отношениях как с собой, так и с окружающими.\n",
      "Стремление избегать обмана и строить отношения на основе открытости и искренности может стать ключевым аспектом твоей жизни. Важно, чтобы ты умел\n",
      "прощаться с прошлыми отношениями прежде, чем начинать новые, так как это помогает сохранять твою энергию.\n",
      "\n",
      "Когда ты выбираешь находиться в гармонии, ты излучаешь уверенность и внутренний баланс. Твое искреннее интерес к окружающим превращает каждую встречу\n",
      "в возможность обмена идеями и опытом. Открытость новым впечатлениям и легкость адаптации к изменениям принимают разнообразие мира, в котором ты\n",
      "живешь. Твоя доброжелательность и готовность помогать создают атмосферу взаимопонимания и поддержки, способствуя крепким связям и дружбе. Ты можешь\n",
      "вдохновлять окружающих своей энергией, задавая позитивный тон в любой ситуации и обучая видеть красоту в каждом моменте жизни.\n",
      "\n",
      "В моменты, когда ты поддаешься негативным эмоциям, может проявляться склонность выражать недовольство как по отношению к окружающим, так и к себе. Это\n",
      "недовольство, как правило, не приводит к конструктивным решениям, а лишь усиливает внутреннее напряжение. Ты можешь попасть в состояние отчаяния,\n",
      "когда мир кажется враждебным, и каждое взаимодействие воспринимается как возможный конфликт. В такие моменты интерес к культурным корням и традициям\n",
      "угасает, что приводит к потере связи с общностью. Эта негативная энергия может отнимать у тебя жизненные силы, вызывая усталость и чувство застоя.\n",
      "\n",
      "Рекомендуется проявлять открытость к новым культурам и языкам, изучая разнообразие мира и поддерживая дружелюбные отношения с представителями разных\n",
      "стран при уважении собственных традиций. Избегай негативных проявлений и критики окружающего мира, а вместо этого сосредоточься на расширении\n",
      "горизонтов через путешествия и общение. Работай над навыками честного общения и задавай себе важные вопросы о своих истинных чувствах. Устанавливай\n",
      "здоровые границы и обязательно завершай старые отношения перед переходом к новым. Также стоит стремиться к тому, чтобы окружающие придерживались\n",
      "аналогичных ценностей, что поможет создать гармоничные и искренние связи.\n",
      "\n"
     ]
    }
   ],
   "source": [
    "    from extractors.base_energy_kb import BaseEnergyKB\n",
    "    from utils import utils\n",
    "    \n",
    "    bekb = BaseEnergyKB(use_openai=True)\n",
    "    oleg_be_reading_ru = bekb.get_reading(\"Oleg\", 21, 8, 38, \"m\", lang=\"ru\", verbose=False)[\"text\"]\n",
    "    for el in oleg_be_reading_ru:\n",
    "        utils.print_json_pretty(el, width=150)\n",
    "        print()"
   ]
  },
  {
   "cell_type": "markdown",
   "metadata": {},
   "source": [
    "## Get reading (base energies) by name, sex, date and month of birth (english)"
   ]
  },
  {
   "cell_type": "code",
   "execution_count": 44,
   "metadata": {},
   "outputs": [
    {
     "name": "stdout",
     "output_type": "stream",
     "text": [
      "Oleg, you might discover that when you embrace new experiences, you tend to have an open perception of the world, high tolerance, and curiosity. This\n",
      "openness can help you adapt easily to new cultures and connections, enriching your life significantly. Choosing to value honesty in your relationships\n",
      "can guide you towards building deeper connections based on sincerity and openness, allowing you to move forward positively.\n",
      "\n",
      "When you radiate positive energy, you may find yourself filled with confidence and inner balance. You might see beauty and harmony in your\n",
      "surroundings, which helps you feel at home within yourself. Showing genuine interest in others can transform your interactions into meaningful\n",
      "exchanges of ideas and experiences. During moments when you embrace new challenges, adapting to changes can feel easier, and your kindness can foster\n",
      "strong friendships and a supportive atmosphere.\n",
      "\n",
      "However, in times when you give in to negative emotions, you might experience dissatisfaction and express criticism towards yourself and others. This\n",
      "can create internal tension that hinders positive development. Feeling despair can lead to seeing the world as hostile, causing you to retreat from\n",
      "cultural roots and community connections, which diminishes your vitality.\n",
      "\n",
      "To enhance your experiences, Oleg, consider being open to diverse cultures and languages. Embracing this diversity often leads to forming friendly\n",
      "relationships while respecting your own traditions. It’s beneficial to avoid negative expressions and focus instead on broadening your horizons\n",
      "through travel and meaningful communication. Developing honest communication skills and reflecting on your true feelings is crucial. By setting\n",
      "healthy boundaries, you create space for more positive interactions. Remember to conclude past relationships before engaging in new ones; this can\n",
      "help clarify your emotional state and foster harmonious connections based on shared values.\n",
      "\n"
     ]
    }
   ],
   "source": [
    "    from extractors.base_energy_kb import BaseEnergyKB\n",
    "    from utils import utils\n",
    "    \n",
    "    bekb = BaseEnergyKB(use_openai=True)\n",
    "    oleg_be_reading_en = bekb.get_reading(\"Oleg\", 21, 8, 38, \"m\", lang=\"en\", verbose=False)[\"text\"]\n",
    "    for el in oleg_be_reading_en:\n",
    "        utils.print_json_pretty(el, width=150)\n",
    "        print()"
   ]
  }
 ],
 "metadata": {
  "kernelspec": {
   "display_name": ".venv",
   "language": "python",
   "name": "python3"
  },
  "language_info": {
   "codemirror_mode": {
    "name": "ipython",
    "version": 3
   },
   "file_extension": ".py",
   "mimetype": "text/x-python",
   "name": "python",
   "nbconvert_exporter": "python",
   "pygments_lexer": "ipython3",
   "version": "3.12.6"
  }
 },
 "nbformat": 4,
 "nbformat_minor": 2
}
