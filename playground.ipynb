{
 "cells": [
  {
   "cell_type": "code",
   "execution_count": 31,
   "metadata": {},
   "outputs": [],
   "source": [
    "text = []\n",
    "text.append(\"# Базовые энергии месяца\\n\")\n",
    "with open(\"data/output/base_energy_month_kb.json\", \"r\") as f:\n",
    "    kb = json.load(f)\n",
    "    for el in kb:\n",
    "        text.append(f\"## {el}\")\n",
    "        text.append(\"\\n\")\n",
    "        text.append(kb[el])\n",
    "        text.append(\"\\n\")\n",
    "        "
   ]
  },
  {
   "cell_type": "code",
   "execution_count": 32,
   "metadata": {},
   "outputs": [],
   "source": [
    "with open(\"mark.md\", \"w\") as f:\n",
    "    f.write(\"\\n\".join(text))"
   ]
  }
 ],
 "metadata": {
  "kernelspec": {
   "display_name": ".venv",
   "language": "python",
   "name": "python3"
  },
  "language_info": {
   "codemirror_mode": {
    "name": "ipython",
    "version": 3
   },
   "file_extension": ".py",
   "mimetype": "text/x-python",
   "name": "python",
   "nbconvert_exporter": "python",
   "pygments_lexer": "ipython3",
   "version": "3.12.6"
  }
 },
 "nbformat": 4,
 "nbformat_minor": 2
}
